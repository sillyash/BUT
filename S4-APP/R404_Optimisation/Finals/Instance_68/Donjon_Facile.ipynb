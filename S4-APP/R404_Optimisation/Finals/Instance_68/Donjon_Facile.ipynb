{
 "cells": [
  {
   "cell_type": "markdown",
   "metadata": {},
   "source": [
    "# Donjon Facile\n",
    "\n",
    "Après une nuit de révision à base de boissons que le règlement intérieur réprouve, vous vous réveillez avec une sensibilité accrue au bruit, des cheveux qui piquent, et absolument aucune idée de pourquoi votre chambre est en pierre avec de la mousse sur les murs et une absence notable de fenêtres.\n",
    "\n",
    "A côté de vous se trouve une carte du donjon et un message énigmatique : \"The computing scientist’s main challenge is not to get confused by the complexities of his own making.\", signé \"EWD\".\n",
    "\n",
    "## Quelques règles\n",
    "\n",
    "Vous allez devoir vous échapper du donjon. Sur la carte qui vous est fournie plus bas, vous verrez le plan avec les différentes salles, et des indications sur le point de départ (\"S\", *start*), la sortie (\"E\", *exit*), les portes fermées (marquées en rouge), ainsi que des objets (\"W\" : arme, \"P\" : potion, \"C\" : coffre, \"A\" : armure). Comme vous êtes étudiante ou étudiant en informatique, vous avez avec vous de quoi faire un peu de programmation, et vous sentez que vous allez devoir sortir assez rapidement.\n",
    "\n",
    "On se déplace sur la carte dans les quatres directions cardinales, mais pas en diagonale. Chaque déplacement coûte une unité de temps, et votre objectif est de rejoindre la sortie le plus rapidement possible.\n",
    "\n",
    "Vous disposez de deux versions de la carte : une version graphique, et un fichier texte (ouvrez le et regardez comment il est fait) qui représente les différentes cases du donjon. Il y a plusieurs types de cases :\n",
    "\n",
    "- des cases impénétrables/intraversables : \n",
    "  - les murs des pièces : **@** \n",
    "  - les murs du donjon : **#**\n",
    "- des cases représentant des portes fermées : **D**. En fonction de la partie que vous traitez, ces cases seront ou non traversables\n",
    "- des cases représentant le sol :\n",
    "  - des pièces : **\\<espace\\>** \n",
    "  - des couloirs : **\\_**\n",
    "- des points d'intérêt qui se comportent comme du sol pour le déplacement :\n",
    "  - le point de départ : **S**\n",
    "  - la sortie : **E**\n",
    "  - une clef : **K**\n",
    "  - des objets à ramasser (partie 2 et 3) : **W** (arme), **P** (potion), **C** (coffre) et **A** (armure)"
   ]
  },
  {
   "cell_type": "markdown",
   "metadata": {},
   "source": [
    "Mettre ci-dessous votre numéro d'instance, puis lancer une fois l'exécution de tout le carnet pour afficher l'image et charger les données :"
   ]
  },
  {
   "cell_type": "code",
   "execution_count": 1,
   "metadata": {},
   "outputs": [],
   "source": [
    "NUM_INSTANCE = 68"
   ]
  },
  {
   "cell_type": "markdown",
   "metadata": {},
   "source": [
    "On vous donne le plan du donjon :"
   ]
  },
  {
   "cell_type": "code",
   "execution_count": 2,
   "metadata": {},
   "outputs": [
    {
     "data": {
      "image/png": "[encoded data removed]",
      "text/plain": [
       "<IPython.core.display.Image object>"
      ]
     },
     "execution_count": 2,
     "metadata": {},
     "output_type": "execute_result"
    }
   ],
   "source": [
    "from IPython.display import Image\n",
    "Image(filename=f'donjon_{NUM_INSTANCE}.png') "
   ]
  },
  {
   "cell_type": "markdown",
   "metadata": {},
   "source": [
    "Imports"
   ]
  },
  {
   "cell_type": "code",
   "execution_count": 3,
   "metadata": {},
   "outputs": [],
   "source": [
    "import heapq\n",
    "from collections import defaultdict\n",
    "from math import inf\n",
    "from itertools import permutations\n",
    "# permutations(liste, k) prend une liste ou une chaîne de caractères en entrée et sort toutes les permutations possibles de longueur k\n",
    "# Exemple : permutations('ABCD', 2) → AB AC AD BA BC BD CA CB CD DA DB DC"
   ]
  },
  {
   "cell_type": "markdown",
   "metadata": {},
   "source": [
    "Fonctions utiles pour la recherche de solutions :"
   ]
  },
  {
   "cell_type": "code",
   "execution_count": 4,
   "metadata": {},
   "outputs": [],
   "source": [
    "def find_poi(carte: list[list[str]], poi: str) -> tuple[int, int]:\n",
    "    \"\"\"Trouve les coordonnées d'un point d'intérêt sur une carte.\n",
    "\n",
    "    entrée :  une carte sous forme de liste de liste de caractères,\n",
    "    et un point d'intérêt (un caractère, par exemple \"S\" pour le point de départ).\n",
    "\n",
    "    sortie : les coordonnées (i,ji) du point, et None s'il n'existe pas.\n",
    "    \"\"\"\n",
    "    for i in range(len(carte)):\n",
    "        for j in range(len(carte[0])):\n",
    "            if carte[i][j] == poi:\n",
    "                return (i, j)"
   ]
  },
  {
   "cell_type": "markdown",
   "metadata": {},
   "source": [
    "On charge les données :"
   ]
  },
  {
   "cell_type": "code",
   "execution_count": 5,
   "metadata": {},
   "outputs": [],
   "source": [
    "with open(f'donjon_{NUM_INSTANCE}.txt') as f:\n",
    "    data = [[c for c in line.strip()] for line in f.readlines()]"
   ]
  },
  {
   "cell_type": "markdown",
   "metadata": {},
   "source": [
    "## Partie 1\n",
    "\n",
    "Dans un premier temps, on considère que toutes les portes sont ouvertes, les cases rouges sont donc considérées comme vides. Les cases particulières (S, E, K, C, P, W et A) sont aussi traitées comme des cases vides.\n",
    "\n",
    "### Exercice 1\n",
    "\n",
    "Compléter les code ci-dessous pour calculer le plus court chemin d'un point *a* vers un point *b* en utilisant la *carte* du donjon."
   ]
  },
  {
   "cell_type": "code",
   "execution_count": 6,
   "metadata": {},
   "outputs": [],
   "source": [
    "def est_impenetrable(case : str) -> bool:\n",
    "    if case == '@': return True\n",
    "    if case == '#': return True\n",
    "    return False\n",
    "\n",
    "def est_sol(case: str) -> bool:\n",
    "    if case == '_': return True\n",
    "    if case == ' ': return True\n",
    "    if case == 'S': return True\n",
    "    if case == 'E': return True\n",
    "    if case == 'K': return True\n",
    "    if case == 'W': return True\n",
    "    if case == 'P': return True\n",
    "    if case == 'C': return True\n",
    "    if case == 'A': return True\n",
    "    return False\n",
    "\n",
    "def remplir_voisins(smt: tuple[int, int]) -> list:\n",
    "    voisins = []\n",
    "    coordX = smt[0]\n",
    "    coordY = smt[1]\n",
    "    \n",
    "    voisins.append((coordX, coordY+1))\n",
    "    voisins.append((coordX, coordY-1))\n",
    "\n",
    "    voisins.append((coordX+1, coordY+1))\n",
    "    voisins.append((coordX+1, coordY))\n",
    "    voisins.append((coordX+1, coordY-1))\n",
    "\n",
    "    voisins.append((coordX-1, coordY+1))\n",
    "    voisins.append((coordX-1, coordY))\n",
    "    voisins.append((coordX-1, coordY-1))\n",
    "\n",
    "    return voisins\n"
   ]
  },
  {
   "cell_type": "code",
   "execution_count": 7,
   "metadata": {},
   "outputs": [],
   "source": [
    "assert est_impenetrable(\"S\") == False\n",
    "assert est_sol(\" \") == True"
   ]
  },
  {
   "cell_type": "code",
   "execution_count": 8,
   "metadata": {},
   "outputs": [],
   "source": [
    "def plus_court_chemin(carte: list[list[str]], a: tuple[int, int], b: tuple[int, int]) -> int:\n",
    "    \"\"\"Trouve le plus court chemin entre deux points d'intérêt dans une carte dont toutes les portes sont ouvertes.\n",
    "    \n",
    "    Entrée : \n",
    "        - une carte sous forme de liste de liste de caractères,\n",
    "        - un point d'intérêt a sous forme de tuple (x, y)\n",
    "        - un point d'intérêt b sous forme de tuple (x, y)\n",
    "\n",
    "    Sortie : la distance la plus courte entre a et b.\n",
    "    \"\"\"\n",
    "    \n",
    "    # On initialise avec un defaultdict\n",
    "    vus = defaultdict(lambda: False)\n",
    "\n",
    "    # On initialise le sac\n",
    "    sac = []\n",
    "\n",
    "    # On utilise heapq pour le sac à priorité\n",
    "    heapq.heappush(sac, (0, a))\n",
    "\n",
    "    # Puis, on procède de manière similaire, avec heapq au lieu de nos listes simples et retrait d'élément manuels\n",
    "    vus[a] = 0\n",
    "\n",
    "    print(sac)\n",
    "\n",
    "    while len(sac) > 0:\n",
    "        # On extrait le chemin de distance minimale\n",
    "        (chemin, smt) = heapq.heappop(sac)\n",
    "        \n",
    "        # On a trouvé le sommet de destination\n",
    "        if smt == b: return chemin\n",
    "        \n",
    "        # On marque le sommet comme vu\n",
    "        if vus[smt]: continue\n",
    "        else: vus[smt] = True\n",
    "\n",
    "        # On donne les voisins visitables\n",
    "        voisins = remplir_voisins(smt)\n",
    "\n",
    "        # On met à jour les distances des voisins\n",
    "        for voisin in voisins:\n",
    "            poids = 1\n",
    "            val = carte[voisin[0]][voisin[1]]\n",
    "\n",
    "            # On vérifie qu'on peut se rendre dans la case\n",
    "            if est_impenetrable(val): continue\n",
    "\n",
    "            if not vus[voisin]:\n",
    "                # On calcule la nouvelle distance\n",
    "                nouvelle_distance = chemin + poids\n",
    "\n",
    "                # On met à jour le sac\n",
    "                heapq.heappush(sac, (nouvelle_distance, voisin))\n",
    "    return -1  # On n'a pas trouvé de chemin"
   ]
  },
  {
   "cell_type": "markdown",
   "metadata": {},
   "source": [
    "On fait maintenant tourner l'algorithme en allant du départ *S* jusqu'à la sortie *E*"
   ]
  },
  {
   "cell_type": "code",
   "execution_count": 9,
   "metadata": {},
   "outputs": [
    {
     "name": "stdout",
     "output_type": "stream",
     "text": [
      "[(0, (6, 6))]\n"
     ]
    }
   ],
   "source": [
    "a = find_poi(data, \"S\")\n",
    "b = find_poi(data, \"E\")\n",
    "d = plus_court_chemin(data, a, b)"
   ]
  },
  {
   "cell_type": "markdown",
   "metadata": {},
   "source": [
    "On vérifie qu'on a bien une solution et si oui, on affiche son coût."
   ]
  },
  {
   "cell_type": "code",
   "execution_count": 10,
   "metadata": {},
   "outputs": [
    {
     "name": "stdout",
     "output_type": "stream",
     "text": [
      "Le temps nécessaire pour aller de S vers E avec toutes les portes considérées comme ouvertes est : 128\n"
     ]
    }
   ],
   "source": [
    "if d == -1:\n",
    "    print(\"Erreur : pas de chemin trouvé entre S et E.\")\n",
    "else:\n",
    "    print(\"Le temps nécessaire pour aller de S vers E avec toutes les portes considérées comme ouvertes est :\", d)"
   ]
  },
  {
   "cell_type": "markdown",
   "metadata": {},
   "source": [
    "Si vous n'avez pas réussi à coder votre algorithme, expliquez ici (modifiez cette cellule) ce que vous auriez voulu faire (en pseudo-code ou en français)."
   ]
  },
  {
   "cell_type": "markdown",
   "metadata": {},
   "source": [
    "## Partie 2\n",
    "\n",
    "On va maintenant explorer le donjon de manière un peu plus réaliste : certaines portes (marquées en rouge) sont fermées, et il y a des objets à récupérer (une arme \"W\", une armure \"A\", un coffre \"C\", une potion \"P\") et une clef \"K\" qui permet d'ouvrir les portes fermées.\n",
    "\n",
    "Il faut maintenant récupérer tous les objets (W, A, C et P) avant de sortir, et si besoin, la clef.\n",
    "\n",
    "### Exercice 2\n",
    "\n",
    "En partant du point de départ, commencez par récupérer la clef. Combien de temps faut-il ? Attention, les portes fermées vous bloquent désormais."
   ]
  },
  {
   "cell_type": "code",
   "execution_count": 11,
   "metadata": {},
   "outputs": [],
   "source": [
    "def plus_court_chemin_2(\n",
    "    carte: list[list[str]], a: tuple[int, int], b: tuple[int, int]\n",
    ") -> int:\n",
    "    \"\"\"Trouve le plus court chemin entre deux points d'intérêt dans une carte sans passer par les portes fermées.\n",
    "    \n",
    "    Entrée : \n",
    "        - une carte sous forme de liste de liste de caractères,\n",
    "        - un point d'intérêt a sous forme de tuple (x, y)\n",
    "        - un point d'intérêt b sous forme de tuple (x, y)\n",
    "\n",
    "    Sortie : la distance la plus courte entre a et b.\n",
    "    \"\"\"\n",
    "    ..."
   ]
  },
  {
   "cell_type": "code",
   "execution_count": 12,
   "metadata": {},
   "outputs": [
    {
     "name": "stdout",
     "output_type": "stream",
     "text": [
      "(6, 6) (70, 55)\n"
     ]
    },
    {
     "ename": "TypeError",
     "evalue": "'<' not supported between instances of 'NoneType' and 'float'",
     "output_type": "error",
     "traceback": [
      "\u001b[1;31m---------------------------------------------------------------------------\u001b[0m",
      "\u001b[1;31mTypeError\u001b[0m                                 Traceback (most recent call last)",
      "Cell \u001b[1;32mIn[12], line 5\u001b[0m\n\u001b[0;32m      3\u001b[0m \u001b[38;5;28mprint\u001b[39m(a, b)\n\u001b[0;32m      4\u001b[0m d \u001b[38;5;241m=\u001b[39m plus_court_chemin_2(data, a, b)\n\u001b[1;32m----> 5\u001b[0m \u001b[38;5;28;01mif\u001b[39;00m \u001b[43md\u001b[49m\u001b[43m \u001b[49m\u001b[38;5;241;43m<\u001b[39;49m\u001b[43m \u001b[49m\u001b[43minf\u001b[49m:\n\u001b[0;32m      6\u001b[0m     \u001b[38;5;28mprint\u001b[39m(\u001b[38;5;124m\"\u001b[39m\u001b[38;5;124mLe temps nécessaire pour aller de S vers K est :\u001b[39m\u001b[38;5;124m\"\u001b[39m, d)\n\u001b[0;32m      7\u001b[0m \u001b[38;5;28;01melse\u001b[39;00m:\n",
      "\u001b[1;31mTypeError\u001b[0m: '<' not supported between instances of 'NoneType' and 'float'"
     ]
    }
   ],
   "source": [
    "a = find_poi(data, \"S\")\n",
    "b = find_poi(data, \"K\")\n",
    "print(a, b)\n",
    "d = plus_court_chemin_2(data, a, b)\n",
    "if d < inf:\n",
    "    print(\"Le temps nécessaire pour aller de S vers K est :\", d)\n",
    "else:\n",
    "    print(\"Erreur : pas de chemin trouvé entre S et K.\")"
   ]
  },
  {
   "cell_type": "markdown",
   "metadata": {},
   "source": [
    "Si vous n'avez pas réussi à coder votre algorithme, expliquez ici (modifiez cette cellule) ce que vous auriez voulu faire (en pseudo-code ou en français)."
   ]
  },
  {
   "cell_type": "markdown",
   "metadata": {},
   "source": [
    "Maintenant que vous avez la clef, vous allez pouvoir récupérer les différents objets avant de sortir.\n",
    "\n",
    "Il faudra commencer par calculer tous les plus courts chemins entre les objets (autres que la clef), de la clef vers chacun des objets et de chacun des objets vers la sortie.\n",
    "\n",
    "### Exercice 3\n",
    "\n",
    "Combien de temps vous faut-il **au total** pour aller récupérer la clef, puis tous les objets, et enfin vous enfuir ?\n",
    "\n",
    "Quel est le plus court chemin (répondre au format ABCDEFG, par exemple SKABCDE) correspondant ?"
   ]
  },
  {
   "cell_type": "code",
   "execution_count": null,
   "metadata": {},
   "outputs": [],
   "source": [
    "meilleur_temps = inf\n",
    "ordre = \"\"\n",
    "\n",
    "# On calcule les plus courts chemins entre chaque paire d'objets (A, W, C, P)\n",
    "...\n",
    "\n",
    "# On calcule les plus courts chemins de la clef vers chaque objet\n",
    "...\n",
    "\n",
    "# On calcule les plus courts chemins de chaque objet vers la sortie\n",
    "...\n",
    "\n",
    "# Et enfin on cherche quelle permutation est la plus rapide\n",
    "...\n",
    "\n",
    "print(f\"Le meilleur parcours est : SK{''.join(ordre)}E et il prend un temps de : {meilleur_temps}\")"
   ]
  },
  {
   "cell_type": "markdown",
   "metadata": {},
   "source": [
    "Si vous n'avez pas réussi à coder votre algorithme, expliquez ici (modifiez cette cellule) ce que vous auriez voulu faire (en pseudo-code ou en français)."
   ]
  },
  {
   "cell_type": "markdown",
   "metadata": {},
   "source": [
    "## Partie 3\n",
    "\n",
    "On va maintenant vraiment explorer le donjon, en essayant d'aller le plus vite possible. On veut encore une fois ramasser tous les objets avant de sortir, mais cette fois sans nécessairement prendre la clef, ou peut-être en ne la prenant pas au début.\n",
    "\n",
    "### Exercice 4\n",
    "\n",
    "Quel est le plus court temps **total** possible pour récupérer l'arme, l'armure, la potion et le coffre puis sortir ?\n",
    "\n",
    "Quel est le plus court chemin (répondre au format ABCDEFG ou ABCDEF, par exemple SKABCDE ou SABCDE) correspondant ?"
   ]
  },
  {
   "cell_type": "code",
   "execution_count": null,
   "metadata": {},
   "outputs": [],
   "source": [
    "# A vous de modifier (copiez le ici avant) ce qui a été fait précédemment\n",
    "# Si besoin, vous pouvez ajouter vos propres fonctions\n",
    "\n",
    "..."
   ]
  },
  {
   "cell_type": "markdown",
   "metadata": {},
   "source": [
    "On affiche ensuite la solution et le temps associé :"
   ]
  },
  {
   "cell_type": "code",
   "execution_count": null,
   "metadata": {},
   "outputs": [],
   "source": [
    "print(f\"Le meilleur parcours est : {ordre} et il prend un temps de : {meilleur_temps}\")"
   ]
  },
  {
   "cell_type": "markdown",
   "metadata": {},
   "source": [
    "Si vous n'avez pas réussi à coder votre algorithme, expliquez ici (modifiez cette cellule) ce que vous auriez voulu faire (en pseudo-code ou en français)."
   ]
  }
 ],
 "metadata": {
  "kernelspec": {
   "display_name": "methopt-dungeon",
   "language": "python",
   "name": "python3"
  },
  "language_info": {
   "codemirror_mode": {
    "name": "ipython",
    "version": 3
   },
   "file_extension": ".py",
   "mimetype": "text/x-python",
   "name": "python",
   "nbconvert_exporter": "python",
   "pygments_lexer": "ipython3",
   "version": "3.12.3"
  }
 },
 "nbformat": 4,
 "nbformat_minor": 2
}
